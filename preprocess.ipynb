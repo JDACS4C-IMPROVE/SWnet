{
 "cells": [
  {
   "cell_type": "code",
   "execution_count": null,
   "metadata": {},
   "outputs": [],
   "source": [
    "import pandas as pd"
   ]
  },
  {
   "cell_type": "code",
   "execution_count": null,
   "metadata": {},
   "outputs": [],
   "source": [
    "# download mutations.csv, genes.csv, samples.csv and expression.csv.gz\n",
    "# from figshare\n",
    "\n",
    "mut = pd.read_csv('mutations.csv')\n",
    "gene = pd.read_csv('genes.csv')\n",
    "sample = pd.read_csv('samples.csv')\n",
    "expr = pd.read_csv('expression.csv.gz')"
   ]
  },
  {
   "cell_type": "code",
   "execution_count": null,
   "metadata": {},
   "outputs": [],
   "source": [
    "# select CCLE data\n",
    "expr = expr[expr.study=='CCLE']\n",
    "\n",
    "# join expr and sample on improve id\n",
    "expr = pd.merge(expr, sample[['improve_sample_id',\t'id_source','other_id']], on='improve_sample_id', how='left')"
   ]
  },
  {
   "cell_type": "code",
   "execution_count": null,
   "metadata": {},
   "outputs": [],
   "source": [
    "# calculate z-scores\n",
    "mean=expr.groupby(['improve_sample_id']).counts.transform('mean')    \n",
    "sdev=expr.groupby(['improve_sample_id']).counts.transform('std')\n",
    "expr['z_score'] = (expr.counts - mean) / sdev"
   ]
  },
  {
   "cell_type": "code",
   "execution_count": null,
   "metadata": {},
   "outputs": [],
   "source": [
    "# long to wide\n",
    "gene_expr = pd.pivot(expr, index='improve_sample_id', columns='entrez_id', values='z_score')"
   ]
  }
 ],
 "metadata": {
  "kernelspec": {
   "display_name": "candle",
   "language": "python",
   "name": "candle"
  },
  "language_info": {
   "codemirror_mode": {
    "name": "ipython",
    "version": 3
   },
   "file_extension": ".py",
   "mimetype": "text/x-python",
   "name": "python",
   "nbconvert_exporter": "python",
   "pygments_lexer": "ipython3",
   "version": "3.8.15"
  },
  "orig_nbformat": 4
 },
 "nbformat": 4,
 "nbformat_minor": 2
}
